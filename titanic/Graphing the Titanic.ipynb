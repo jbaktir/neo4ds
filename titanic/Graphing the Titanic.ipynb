{
 "cells": [
  {
   "cell_type": "markdown",
   "metadata": {},
   "source": [
    "# Graph Data Science with the Titanic Dataset"
   ]
  },
  {
   "cell_type": "markdown",
   "metadata": {},
   "source": [
    "You have probably heard about Titanic and you may be aware of the Titanic dataset. The purpose of this notebook is to explain you the 'graph data science' using it.   \n",
    "Please use this notebook in accordance with the slides, where the graph concepts are explained in relation to the Titanic dataset"
   ]
  },
  {
   "cell_type": "markdown",
   "metadata": {},
   "source": [
    "### Import Libraries"
   ]
  },
  {
   "cell_type": "code",
   "execution_count": 5,
   "metadata": {},
   "outputs": [],
   "source": [
    "from sklearn.ensemble import RandomForestClassifier\n",
    "from sklearn.metrics import accuracy_score\n",
    "import pandas as pd\n",
    "import nxneo4j as nx\n",
    "import numpy as np\n",
    "from neo4j import GraphDatabase"
   ]
  },
  {
   "cell_type": "markdown",
   "metadata": {},
   "source": [
    "### Create Graph"
   ]
  },
  {
   "cell_type": "code",
   "execution_count": 6,
   "metadata": {},
   "outputs": [],
   "source": [
    "#NODES\n",
    "driver = GraphDatabase.driver(uri=\"bolt://localhost:11004\",auth=(\"neo4j\",\"neo\"))\n",
    "G = nx.DiGraph(driver)\n",
    "\n",
    "G.delete_all()\n",
    "G.identifier_property = 'PassengerId'\n",
    "G.node_label = 'Passenger'\n",
    "\n",
    "nodes = pd.read_csv('/Users/ybaktir/Desktop/titanic/nodes.csv',index_col='PassengerId')\n",
    "nodes.loc[nodes.index > 892,'Survived'] = np.nan\n",
    "\n",
    "\n",
    "G.add_nodes_from([(str(k), v) for k,v in nodes.to_dict('index').items()])"
   ]
  },
  {
   "cell_type": "code",
   "execution_count": 7,
   "metadata": {},
   "outputs": [],
   "source": [
    "#RELATIONSHIPS\n",
    "relationships = pd.read_csv('/Users/ybaktir/Desktop/titanic/relationships.csv')\n",
    "for i in range(len(relationships)):\n",
    "    type = str(relationships.loc[i]['type'])\n",
    "    if type == 'nan':\n",
    "        G.relationship_type = 'CONNECTED'\n",
    "    else:\n",
    "        G.relationship_type = type\n",
    "    G.add_edge(str(relationships.loc[i]['u_id']),str(relationships.loc[i]['v_id']))"
   ]
  },
  {
   "cell_type": "markdown",
   "metadata": {},
   "source": [
    "Display the graph:"
   ]
  },
  {
   "cell_type": "code",
   "execution_count": 8,
   "metadata": {},
   "outputs": [
    {
     "data": {
      "text/html": [
       "\n",
       "        <iframe\n",
       "            width=\"100%\"\n",
       "            height=\"500\"\n",
       "            src=\"vis.html\"\n",
       "            frameborder=\"0\"\n",
       "            allowfullscreen\n",
       "        ></iframe>\n",
       "        "
      ],
      "text/plain": [
       "<IPython.lib.display.IFrame at 0x1a1d1e6a90>"
      ]
     },
     "execution_count": 8,
     "metadata": {},
     "output_type": "execute_result"
    }
   ],
   "source": [
    "nx.draw(G,limit=25)"
   ]
  },
  {
   "cell_type": "markdown",
   "metadata": {},
   "source": [
    "### Encode categorical features"
   ]
  },
  {
   "cell_type": "code",
   "execution_count": 9,
   "metadata": {},
   "outputs": [],
   "source": [
    "nodes = pd.read_csv('/Users/ybaktir/Desktop/titanic/titanic.csv')"
   ]
  },
  {
   "cell_type": "code",
   "execution_count": 10,
   "metadata": {},
   "outputs": [],
   "source": [
    "nodes['Pclass3']= (nodes['Pclass'] == 3) * 1\n",
    "nodes['Pclass2']= (nodes['Pclass'] == 2) * 1\n",
    "nodes['Pclass1']= (nodes['Pclass'] == 1) * 1"
   ]
  },
  {
   "cell_type": "code",
   "execution_count": 11,
   "metadata": {},
   "outputs": [],
   "source": [
    "nodes.Sex.replace({'female':1,'male':0},inplace=True)"
   ]
  },
  {
   "cell_type": "code",
   "execution_count": 12,
   "metadata": {},
   "outputs": [],
   "source": [
    "nodes['Age'].fillna(nodes['Age'].median(),inplace=True)"
   ]
  },
  {
   "cell_type": "code",
   "execution_count": 13,
   "metadata": {},
   "outputs": [],
   "source": [
    "nodes['Fare'].fillna(nodes['Fare'].median(),inplace=True)"
   ]
  },
  {
   "cell_type": "code",
   "execution_count": 14,
   "metadata": {},
   "outputs": [],
   "source": [
    "nodes['Embarked'].fillna('S',inplace=True)"
   ]
  },
  {
   "cell_type": "code",
   "execution_count": 15,
   "metadata": {},
   "outputs": [],
   "source": [
    "nodes['Embarked_Q'] = (nodes['Embarked'] == 'Q') * 1\n",
    "nodes['Embarked_C'] = (nodes['Embarked'] == 'C') * 1\n",
    "nodes['Embarked_S'] = (nodes['Embarked'] == 'S') * 1"
   ]
  },
  {
   "cell_type": "code",
   "execution_count": 16,
   "metadata": {},
   "outputs": [],
   "source": [
    "remove_list = ['PassengerId', 'Pclass', 'Name', 'Ticket', 'Cabin', 'Embarked']"
   ]
  },
  {
   "cell_type": "code",
   "execution_count": 17,
   "metadata": {},
   "outputs": [],
   "source": [
    "train_cols = [i for i in nodes.columns if i not in remove_list]"
   ]
  },
  {
   "cell_type": "code",
   "execution_count": 18,
   "metadata": {},
   "outputs": [
    {
     "data": {
      "text/plain": [
       "['Sex',\n",
       " 'Age',\n",
       " 'SibSp',\n",
       " 'Parch',\n",
       " 'Fare',\n",
       " 'Survived',\n",
       " 'Pclass3',\n",
       " 'Pclass2',\n",
       " 'Pclass1',\n",
       " 'Embarked_Q',\n",
       " 'Embarked_C',\n",
       " 'Embarked_S']"
      ]
     },
     "execution_count": 18,
     "metadata": {},
     "output_type": "execute_result"
    }
   ],
   "source": [
    "train_cols"
   ]
  },
  {
   "cell_type": "code",
   "execution_count": 19,
   "metadata": {},
   "outputs": [],
   "source": [
    "### Train, Test sets (in accordance with Kaggle)"
   ]
  },
  {
   "cell_type": "code",
   "execution_count": 20,
   "metadata": {},
   "outputs": [],
   "source": [
    "train = nodes[nodes['PassengerId'] <= 892][train_cols]\n",
    "test  = nodes[nodes['PassengerId'] > 892][train_cols]"
   ]
  },
  {
   "cell_type": "code",
   "execution_count": 21,
   "metadata": {},
   "outputs": [],
   "source": [
    "y_train = train.pop('Survived')\n",
    "y_test  = test.pop('Survived')"
   ]
  },
  {
   "cell_type": "code",
   "execution_count": 22,
   "metadata": {},
   "outputs": [
    {
     "data": {
      "text/plain": [
       "RandomForestClassifier(bootstrap=True, ccp_alpha=0.0, class_weight=None,\n",
       "                       criterion='gini', max_depth=4, max_features='auto',\n",
       "                       max_leaf_nodes=None, max_samples=None,\n",
       "                       min_impurity_decrease=0.0, min_impurity_split=None,\n",
       "                       min_samples_leaf=1, min_samples_split=2,\n",
       "                       min_weight_fraction_leaf=0.0, n_estimators=100,\n",
       "                       n_jobs=None, oob_score=False, random_state=0, verbose=0,\n",
       "                       warm_start=False)"
      ]
     },
     "execution_count": 22,
     "metadata": {},
     "output_type": "execute_result"
    }
   ],
   "source": [
    "clf = RandomForestClassifier(max_depth=4, random_state=0)\n",
    "clf.fit(train, y_train)"
   ]
  },
  {
   "cell_type": "code",
   "execution_count": 23,
   "metadata": {},
   "outputs": [
    {
     "data": {
      "text/plain": [
       "0.7649880095923262"
      ]
     },
     "execution_count": 23,
     "metadata": {},
     "output_type": "execute_result"
    }
   ],
   "source": [
    "accuracy_score(clf.predict(test),y_test)"
   ]
  },
  {
   "cell_type": "code",
   "execution_count": 24,
   "metadata": {},
   "outputs": [
    {
     "name": "stdout",
     "output_type": "stream",
     "text": [
      "Feature Importances\n"
     ]
    },
    {
     "data": {
      "text/html": [
       "<div>\n",
       "<style scoped>\n",
       "    .dataframe tbody tr th:only-of-type {\n",
       "        vertical-align: middle;\n",
       "    }\n",
       "\n",
       "    .dataframe tbody tr th {\n",
       "        vertical-align: top;\n",
       "    }\n",
       "\n",
       "    .dataframe thead th {\n",
       "        text-align: right;\n",
       "    }\n",
       "</style>\n",
       "<table border=\"1\" class=\"dataframe\">\n",
       "  <thead>\n",
       "    <tr style=\"text-align: right;\">\n",
       "      <th></th>\n",
       "      <th>0</th>\n",
       "      <th>1</th>\n",
       "    </tr>\n",
       "  </thead>\n",
       "  <tbody>\n",
       "    <tr>\n",
       "      <th>0</th>\n",
       "      <td>Sex</td>\n",
       "      <td>0.466557</td>\n",
       "    </tr>\n",
       "    <tr>\n",
       "      <th>1</th>\n",
       "      <td>Age</td>\n",
       "      <td>0.069164</td>\n",
       "    </tr>\n",
       "    <tr>\n",
       "      <th>2</th>\n",
       "      <td>SibSp</td>\n",
       "      <td>0.037545</td>\n",
       "    </tr>\n",
       "    <tr>\n",
       "      <th>3</th>\n",
       "      <td>Parch</td>\n",
       "      <td>0.030790</td>\n",
       "    </tr>\n",
       "    <tr>\n",
       "      <th>4</th>\n",
       "      <td>Fare</td>\n",
       "      <td>0.167964</td>\n",
       "    </tr>\n",
       "    <tr>\n",
       "      <th>5</th>\n",
       "      <td>Pclass3</td>\n",
       "      <td>0.108627</td>\n",
       "    </tr>\n",
       "    <tr>\n",
       "      <th>6</th>\n",
       "      <td>Pclass2</td>\n",
       "      <td>0.021526</td>\n",
       "    </tr>\n",
       "    <tr>\n",
       "      <th>7</th>\n",
       "      <td>Pclass1</td>\n",
       "      <td>0.057441</td>\n",
       "    </tr>\n",
       "    <tr>\n",
       "      <th>8</th>\n",
       "      <td>Embarked_Q</td>\n",
       "      <td>0.007661</td>\n",
       "    </tr>\n",
       "    <tr>\n",
       "      <th>9</th>\n",
       "      <td>Embarked_C</td>\n",
       "      <td>0.018306</td>\n",
       "    </tr>\n",
       "    <tr>\n",
       "      <th>10</th>\n",
       "      <td>Embarked_S</td>\n",
       "      <td>0.014419</td>\n",
       "    </tr>\n",
       "  </tbody>\n",
       "</table>\n",
       "</div>"
      ],
      "text/plain": [
       "             0         1\n",
       "0          Sex  0.466557\n",
       "1          Age  0.069164\n",
       "2        SibSp  0.037545\n",
       "3        Parch  0.030790\n",
       "4         Fare  0.167964\n",
       "5      Pclass3  0.108627\n",
       "6      Pclass2  0.021526\n",
       "7      Pclass1  0.057441\n",
       "8   Embarked_Q  0.007661\n",
       "9   Embarked_C  0.018306\n",
       "10  Embarked_S  0.014419"
      ]
     },
     "execution_count": 24,
     "metadata": {},
     "output_type": "execute_result"
    }
   ],
   "source": [
    "print('Feature Importances')\n",
    "pd.DataFrame(zip(train.columns,clf.feature_importances_))"
   ]
  },
  {
   "cell_type": "markdown",
   "metadata": {},
   "source": [
    "# GRAPH EXTENDED FEATURES"
   ]
  },
  {
   "cell_type": "code",
   "execution_count": 25,
   "metadata": {},
   "outputs": [],
   "source": [
    "from neo4j import GraphDatabase\n",
    "driver = GraphDatabase.driver(uri=\"bolt://localhost:11004\",auth=(\"neo4j\",\"neo\"))"
   ]
  },
  {
   "cell_type": "markdown",
   "metadata": {},
   "source": [
    "Connection Size:"
   ]
  },
  {
   "cell_type": "code",
   "execution_count": 26,
   "metadata": {},
   "outputs": [],
   "source": [
    "query = \"\"\"\n",
    "MATCH (n1)\n",
    "OPTIONAL MATCH (n1)-[]->(n2)\n",
    "RETURN toInteger(n1.PassengerId) as PassengerId, count(n2) as connection_size\"\"\"\n",
    "connection_size = driver.session().run(query).data()"
   ]
  },
  {
   "cell_type": "markdown",
   "metadata": {},
   "source": [
    "Average Survived:"
   ]
  },
  {
   "cell_type": "code",
   "execution_count": 27,
   "metadata": {},
   "outputs": [],
   "source": [
    "query = f\"\"\"\n",
    "MATCH (n1)\n",
    "OPTIONAL MATCH (n1)-[]->(n2)\n",
    "where TOFLOAT(n2.Survived) = n2.Survived\n",
    "RETURN distinct toInteger(n1.PassengerId) as PassengerId, AVG(n2.Survived) as avg_survived\n",
    "\"\"\"\n",
    "avg_survived = driver.session().run(query).data()"
   ]
  },
  {
   "cell_type": "markdown",
   "metadata": {},
   "source": [
    "Mother Survived:"
   ]
  },
  {
   "cell_type": "code",
   "execution_count": 28,
   "metadata": {},
   "outputs": [],
   "source": [
    "query = f\"\"\"\n",
    "MATCH (n1)\n",
    "OPTIONAL MATCH (n1)-[:MOTHER]->(n2)\n",
    "where TOFLOAT(n2.Survived) = n2.Survived\n",
    "RETURN distinct toInteger(n1.PassengerId) as PassengerId, AVG(n2.Survived) as mother_survived\n",
    "\"\"\"\n",
    "mother_survived = driver.session().run(query).data()"
   ]
  },
  {
   "cell_type": "markdown",
   "metadata": {},
   "source": [
    "Father Survied:"
   ]
  },
  {
   "cell_type": "code",
   "execution_count": 29,
   "metadata": {},
   "outputs": [],
   "source": [
    "query = f\"\"\"\n",
    "MATCH (n1)\n",
    "OPTIONAL MATCH (n1)-[:FATHER]->(n2)\n",
    "where TOFLOAT(n2.Survived) = n2.Survived\n",
    "RETURN distinct toInteger(n1.PassengerId) as PassengerId, AVG(n2.Survived) as father_survived\n",
    "\"\"\"\n",
    "father_survived = driver.session().run(query).data()"
   ]
  },
  {
   "cell_type": "markdown",
   "metadata": {},
   "source": [
    "Same Gender Survived:"
   ]
  },
  {
   "cell_type": "code",
   "execution_count": 30,
   "metadata": {},
   "outputs": [],
   "source": [
    "query = \"\"\"\n",
    "MATCH (n1)\n",
    "OPTIONAL MATCH (n1)-[]->(n2)\n",
    "where (TOFLOAT(n2.Survived) = n2.Survived) and (n1.Sex = n2.Sex)\n",
    "RETURN distinct toInteger(n1.PassengerId) as PassengerId, AVG(n2.Survived) as same_gender_survived\n",
    "\"\"\"\n",
    "same_gender_survived = driver.session().run(query).data()"
   ]
  },
  {
   "cell_type": "markdown",
   "metadata": {},
   "source": [
    "Similar Age Survived:"
   ]
  },
  {
   "cell_type": "code",
   "execution_count": 31,
   "metadata": {},
   "outputs": [],
   "source": [
    "query = \"\"\"\n",
    "MATCH (n1)\n",
    "OPTIONAL MATCH (n1)-[]->(n2)\n",
    "where (TOFLOAT(n2.Survived) = n2.Survived) and (n2.Age >= n1.Age -5) and (n2.Age <= n1.Age +5)\n",
    "RETURN distinct toInteger(n1.PassengerId) as PassengerId, AVG(n2.Survived) as similar_age_survived\n",
    "\"\"\"\n",
    "similar_age_survived = driver.session().run(query).data()"
   ]
  },
  {
   "cell_type": "markdown",
   "metadata": {},
   "source": [
    "Father:"
   ]
  },
  {
   "cell_type": "code",
   "execution_count": 32,
   "metadata": {},
   "outputs": [],
   "source": [
    "query = f\"\"\"\n",
    "\n",
    "MATCH ()-[:FATHER]->(n2)\n",
    "RETURN distinct toInteger(n2.PassengerId) as PassengerId, 1 as father\n",
    "\"\"\"\n",
    "father = driver.session().run(query).data()"
   ]
  },
  {
   "cell_type": "markdown",
   "metadata": {},
   "source": [
    "Mother:"
   ]
  },
  {
   "cell_type": "code",
   "execution_count": 33,
   "metadata": {},
   "outputs": [],
   "source": [
    "query = f\"\"\"\n",
    "MATCH ()-[:MOTHER]->(n2)\n",
    "RETURN distinct toInteger(n2.PassengerId) as PassengerId, 1 as mother\n",
    "\"\"\"\n",
    "mother = driver.session().run(query).data()"
   ]
  },
  {
   "cell_type": "markdown",
   "metadata": {},
   "source": [
    "Sister:"
   ]
  },
  {
   "cell_type": "code",
   "execution_count": 34,
   "metadata": {},
   "outputs": [],
   "source": [
    "query = f\"\"\"\n",
    "MATCH ()-[:SISTER]->(n2)\n",
    "RETURN distinct toInteger(n2.PassengerId) as PassengerId, 1 as sister\n",
    "\"\"\"\n",
    "sister = driver.session().run(query).data()"
   ]
  },
  {
   "cell_type": "markdown",
   "metadata": {},
   "source": [
    "Daughter:"
   ]
  },
  {
   "cell_type": "code",
   "execution_count": 35,
   "metadata": {},
   "outputs": [],
   "source": [
    "query = f\"\"\"\n",
    "MATCH ()-[:DAUGHTER]->(n2)\n",
    "RETURN distinct toInteger(n2.PassengerId) as PassengerId, 1 as daughter\n",
    "\"\"\"\n",
    "daughter = driver.session().run(query).data()"
   ]
  },
  {
   "cell_type": "markdown",
   "metadata": {},
   "source": [
    "Brother:"
   ]
  },
  {
   "cell_type": "code",
   "execution_count": 36,
   "metadata": {},
   "outputs": [],
   "source": [
    "query = f\"\"\"\n",
    "MATCH ()-[:BROTHER]->(n2)\n",
    "RETURN distinct toInteger(n2.PassengerId) as PassengerId, 1 as brother\n",
    "\"\"\"\n",
    "brother = driver.session().run(query).data()"
   ]
  },
  {
   "cell_type": "markdown",
   "metadata": {},
   "source": [
    "Wife:"
   ]
  },
  {
   "cell_type": "code",
   "execution_count": 37,
   "metadata": {},
   "outputs": [],
   "source": [
    "query = f\"\"\"\n",
    "MATCH ()-[:WIFE]->(n2)\n",
    "RETURN distinct toInteger(n2.PassengerId) as PassengerId, 1 as wife\n",
    "\"\"\"\n",
    "wife = driver.session().run(query).data()"
   ]
  },
  {
   "cell_type": "markdown",
   "metadata": {},
   "source": [
    "Husband:"
   ]
  },
  {
   "cell_type": "code",
   "execution_count": 38,
   "metadata": {},
   "outputs": [],
   "source": [
    "query = f\"\"\"\n",
    "MATCH ()-[:HUSBAND]->(n2)\n",
    "RETURN distinct toInteger(n2.PassengerId) as PassengerId, 1 as husband\n",
    "\"\"\"\n",
    "husband = driver.session().run(query).data()"
   ]
  },
  {
   "cell_type": "markdown",
   "metadata": {},
   "source": [
    "Son:"
   ]
  },
  {
   "cell_type": "code",
   "execution_count": 39,
   "metadata": {},
   "outputs": [],
   "source": [
    "query = \"\"\"\n",
    "MATCH ()-[:SON]->(n2)\n",
    "RETURN distinct toInteger(n2.PassengerId) as PassengerId, 1 as son\n",
    "\"\"\"\n",
    "son = driver.session().run(query).data()"
   ]
  },
  {
   "cell_type": "markdown",
   "metadata": {},
   "source": [
    "Gds graph for Node Embeddings:"
   ]
  },
  {
   "cell_type": "code",
   "execution_count": 40,
   "metadata": {},
   "outputs": [
    {
     "data": {
      "text/plain": [
       "<neo4j.work.result.Result at 0x1a1d9840d0>"
      ]
     },
     "execution_count": 40,
     "metadata": {},
     "output_type": "execute_result"
    }
   ],
   "source": [
    "query = \"\"\"CALL gds.graph.create(\n",
    "  'persons',\n",
    "  {\n",
    "    Passenger: {\n",
    "      label: 'Passenger',\n",
    "      properties: {\n",
    "        Age: {\n",
    "          property: 'Age',\n",
    "          defaultValue: 1.0\n",
    "        },\n",
    "        Sex: {\n",
    "          property: 'Sex',\n",
    "          defaultValue: 1.0\n",
    "        },\n",
    "        SibSp: {\n",
    "         property: 'SibSp',\n",
    "         defaultValue: 1.0\n",
    "       },\n",
    "        Parch: {\n",
    "         property: 'Parch',\n",
    "         defaultValue: 1.0\n",
    "       },\n",
    "        Fare: {\n",
    "         property: 'Fare',\n",
    "         defaultValue: 1.0\n",
    "       },\n",
    "        Pclass3: {\n",
    "         property: 'Pclass3',\n",
    "         defaultValue: 1.0\n",
    "       },\n",
    "        Pclass2: {\n",
    "         property: 'Pclass2',\n",
    "         defaultValue: 1.0\n",
    "       },\n",
    "        Pclass1: {\n",
    "         property: 'Pclass1',\n",
    "         defaultValue: 1.0\n",
    "       },\n",
    "        Embarked_Q: {\n",
    "         property: 'Embarked_Q',\n",
    "         defaultValue: 1.0\n",
    "       },\n",
    "        Embarked_C: {\n",
    "         property: 'Embarked_C',\n",
    "         defaultValue: 1.0\n",
    "       },\n",
    "        Embarked_S: {\n",
    "         property: 'Embarked_S',\n",
    "         defaultValue: 1.0\n",
    "     }\n",
    "     }\n",
    "    }\n",
    "  }, {\n",
    "    R: {\n",
    "      type: '*',\n",
    "      orientation: 'UNDIRECTED'\n",
    "    }\n",
    "})\"\"\"\n",
    "driver.session().run(query)"
   ]
  },
  {
   "cell_type": "markdown",
   "metadata": {},
   "source": [
    "Node2vec:"
   ]
  },
  {
   "cell_type": "code",
   "execution_count": 41,
   "metadata": {},
   "outputs": [],
   "source": [
    "query = \"\"\"\n",
    "CALL gds.alpha.node2vec.stream('persons', {embeddingSize:4,\n",
    "    iterations:10})\n",
    "YIELD nodeId, embedding\n",
    "RETURN toInteger(gds.util.asNode(nodeId).PassengerId) AS PassengerId, embedding\"\"\"\n",
    "embedding = driver.session().run(query).data()\n",
    "\n",
    "length = len(embedding[0]['embedding']) \n",
    "\n",
    "columns = []\n",
    "for i in range(length):\n",
    "    columns.append('embedding'+str(i+1))\n",
    "\n",
    "embedding_df = pd.DataFrame(pd.DataFrame(embedding)['embedding'].tolist(),columns=columns)\n",
    "\n",
    "embedding_df['PassengerId'] = pd.DataFrame(embedding)['PassengerId']"
   ]
  },
  {
   "cell_type": "markdown",
   "metadata": {},
   "source": [
    "GraphSage:"
   ]
  },
  {
   "cell_type": "code",
   "execution_count": 42,
   "metadata": {},
   "outputs": [],
   "source": [
    "query = \"\"\"CALL gds.alpha.graphSage.stream(\n",
    "  'persons',\n",
    "  {\n",
    "    nodePropertyNames: ['Sex', 'Age', 'SibSp', 'Parch', 'Fare', 'Pclass3', 'Pclass2', 'Pclass1', 'Embarked_Q', 'Embarked_C', 'Embarked_S'],\n",
    "    aggregator: 'mean',\n",
    "    activationFunction: 'sigmoid',\n",
    "    embeddingSize: 5,\n",
    "    sampleSizes: [25, 10],\n",
    "    degreeAsProperty: true,\n",
    "    maxIterations:75\n",
    "  }\n",
    ")\n",
    "YIELD nodeId, embeddings\n",
    "RETURN toInteger(gds.util.asNode(nodeId).PassengerId) AS PassengerId, embeddings as graphsage\"\"\"\n",
    "graphsage = driver.session().run(query).data()\n",
    "length = len(graphsage[0]['graphsage']) \n",
    "\n",
    "columns = []\n",
    "for i in range(length):\n",
    "    columns.append('graphsage'+str(i+1))\n",
    "\n",
    "graphsage_df = pd.DataFrame(pd.DataFrame(graphsage)['graphsage'].tolist(),columns=columns)\n",
    "\n",
    "graphsage_df['PassengerId'] = pd.DataFrame(graphsage)['PassengerId']"
   ]
  },
  {
   "cell_type": "code",
   "execution_count": 43,
   "metadata": {},
   "outputs": [],
   "source": [
    "for feature in [connection_size,avg_survived,mother_survived,father,mother,sister,daughter,brother,wife,husband,son,same_gender_survived,similar_age_survived]:\n",
    "    nodes = nodes.merge(pd.DataFrame(feature),how='left')"
   ]
  },
  {
   "cell_type": "code",
   "execution_count": 44,
   "metadata": {},
   "outputs": [],
   "source": [
    "nodes = nodes.merge(embedding_df,how='left')\n",
    "nodes = nodes.merge(graphsage_df,how='left')"
   ]
  },
  {
   "cell_type": "code",
   "execution_count": 45,
   "metadata": {},
   "outputs": [],
   "source": [
    "nodes.fillna(0,inplace=True)"
   ]
  },
  {
   "cell_type": "code",
   "execution_count": 46,
   "metadata": {},
   "outputs": [],
   "source": [
    "remove_list = ['PassengerId', 'Pclass', 'Name', 'Ticket', 'Cabin', 'Embarked']\n",
    "\n",
    "train_cols = [i for i in nodes.columns if i not in remove_list]"
   ]
  },
  {
   "cell_type": "code",
   "execution_count": 47,
   "metadata": {},
   "outputs": [],
   "source": [
    "train = nodes[nodes['PassengerId'] <= 892][train_cols]\n",
    "test  = nodes[nodes['PassengerId'] > 892][train_cols]"
   ]
  },
  {
   "cell_type": "code",
   "execution_count": 48,
   "metadata": {},
   "outputs": [],
   "source": [
    "y_train = train.pop('Survived')\n",
    "y_test  = test.pop('Survived')"
   ]
  },
  {
   "cell_type": "code",
   "execution_count": 49,
   "metadata": {},
   "outputs": [
    {
     "data": {
      "text/plain": [
       "RandomForestClassifier(bootstrap=True, ccp_alpha=0.0, class_weight=None,\n",
       "                       criterion='gini', max_depth=4, max_features='auto',\n",
       "                       max_leaf_nodes=None, max_samples=None,\n",
       "                       min_impurity_decrease=0.0, min_impurity_split=None,\n",
       "                       min_samples_leaf=1, min_samples_split=2,\n",
       "                       min_weight_fraction_leaf=0.0, n_estimators=100,\n",
       "                       n_jobs=None, oob_score=False, random_state=0, verbose=0,\n",
       "                       warm_start=False)"
      ]
     },
     "execution_count": 49,
     "metadata": {},
     "output_type": "execute_result"
    }
   ],
   "source": [
    "clf = RandomForestClassifier(max_depth=4, random_state=0)\n",
    "clf.fit(train, y_train)"
   ]
  },
  {
   "cell_type": "code",
   "execution_count": 50,
   "metadata": {},
   "outputs": [
    {
     "data": {
      "text/plain": [
       "0.7841726618705036"
      ]
     },
     "execution_count": 50,
     "metadata": {},
     "output_type": "execute_result"
    }
   ],
   "source": [
    "from sklearn.metrics import accuracy_score\n",
    "\n",
    "accuracy_score(clf.predict(test),y_test)"
   ]
  },
  {
   "cell_type": "code",
   "execution_count": 51,
   "metadata": {},
   "outputs": [],
   "source": [
    "from sklearn.feature_selection import RFE"
   ]
  },
  {
   "cell_type": "code",
   "execution_count": 52,
   "metadata": {},
   "outputs": [],
   "source": [
    "estimator = RandomForestClassifier(max_depth=4, random_state=0)"
   ]
  },
  {
   "cell_type": "code",
   "execution_count": 53,
   "metadata": {},
   "outputs": [],
   "source": [
    "selector = RFE(estimator, n_features_to_select=10, step=1)"
   ]
  },
  {
   "cell_type": "code",
   "execution_count": 54,
   "metadata": {},
   "outputs": [],
   "source": [
    "selector = selector.fit(train, y_train)"
   ]
  },
  {
   "cell_type": "code",
   "execution_count": 55,
   "metadata": {},
   "outputs": [],
   "source": [
    "selector_df = pd.DataFrame(zip(train.columns,selector.support_,selector.ranking_))"
   ]
  },
  {
   "cell_type": "code",
   "execution_count": 56,
   "metadata": {},
   "outputs": [],
   "source": [
    "train_cols = selector_df[selector_df[1]][0].tolist() + ['Survived']"
   ]
  },
  {
   "cell_type": "code",
   "execution_count": 57,
   "metadata": {},
   "outputs": [
    {
     "data": {
      "text/plain": [
       "0.8009592326139089"
      ]
     },
     "execution_count": 57,
     "metadata": {},
     "output_type": "execute_result"
    }
   ],
   "source": [
    "train = nodes[nodes['PassengerId'] <= 892][train_cols]\n",
    "test  = nodes[nodes['PassengerId'] > 892][train_cols]\n",
    "\n",
    "y_train = train.pop('Survived')\n",
    "y_test  = test.pop('Survived')\n",
    "\n",
    "clf = RandomForestClassifier(max_depth=4, random_state=0)\n",
    "clf.fit(train, y_train)\n",
    "\n",
    "from sklearn.metrics import accuracy_score\n",
    "\n",
    "accuracy_score(clf.predict(test),y_test)"
   ]
  },
  {
   "cell_type": "code",
   "execution_count": 58,
   "metadata": {},
   "outputs": [
    {
     "data": {
      "text/html": [
       "<div>\n",
       "<style scoped>\n",
       "    .dataframe tbody tr th:only-of-type {\n",
       "        vertical-align: middle;\n",
       "    }\n",
       "\n",
       "    .dataframe tbody tr th {\n",
       "        vertical-align: top;\n",
       "    }\n",
       "\n",
       "    .dataframe thead th {\n",
       "        text-align: right;\n",
       "    }\n",
       "</style>\n",
       "<table border=\"1\" class=\"dataframe\">\n",
       "  <thead>\n",
       "    <tr style=\"text-align: right;\">\n",
       "      <th></th>\n",
       "      <th>0</th>\n",
       "      <th>1</th>\n",
       "    </tr>\n",
       "  </thead>\n",
       "  <tbody>\n",
       "    <tr>\n",
       "      <th>0</th>\n",
       "      <td>Sex</td>\n",
       "      <td>0.319473</td>\n",
       "    </tr>\n",
       "    <tr>\n",
       "      <th>1</th>\n",
       "      <td>Age</td>\n",
       "      <td>0.038091</td>\n",
       "    </tr>\n",
       "    <tr>\n",
       "      <th>2</th>\n",
       "      <td>Fare</td>\n",
       "      <td>0.058859</td>\n",
       "    </tr>\n",
       "    <tr>\n",
       "      <th>3</th>\n",
       "      <td>Pclass3</td>\n",
       "      <td>0.050317</td>\n",
       "    </tr>\n",
       "    <tr>\n",
       "      <th>4</th>\n",
       "      <td>connection_size</td>\n",
       "      <td>0.032635</td>\n",
       "    </tr>\n",
       "    <tr>\n",
       "      <th>5</th>\n",
       "      <td>avg_survived</td>\n",
       "      <td>0.119693</td>\n",
       "    </tr>\n",
       "    <tr>\n",
       "      <th>6</th>\n",
       "      <td>same_gender_survived</td>\n",
       "      <td>0.218790</td>\n",
       "    </tr>\n",
       "    <tr>\n",
       "      <th>7</th>\n",
       "      <td>graphsage2</td>\n",
       "      <td>0.050240</td>\n",
       "    </tr>\n",
       "    <tr>\n",
       "      <th>8</th>\n",
       "      <td>graphsage4</td>\n",
       "      <td>0.040064</td>\n",
       "    </tr>\n",
       "    <tr>\n",
       "      <th>9</th>\n",
       "      <td>graphsage5</td>\n",
       "      <td>0.071838</td>\n",
       "    </tr>\n",
       "  </tbody>\n",
       "</table>\n",
       "</div>"
      ],
      "text/plain": [
       "                      0         1\n",
       "0                   Sex  0.319473\n",
       "1                   Age  0.038091\n",
       "2                  Fare  0.058859\n",
       "3               Pclass3  0.050317\n",
       "4       connection_size  0.032635\n",
       "5          avg_survived  0.119693\n",
       "6  same_gender_survived  0.218790\n",
       "7            graphsage2  0.050240\n",
       "8            graphsage4  0.040064\n",
       "9            graphsage5  0.071838"
      ]
     },
     "execution_count": 58,
     "metadata": {},
     "output_type": "execute_result"
    }
   ],
   "source": [
    "pd.DataFrame(zip(train.columns,clf.feature_importances_))"
   ]
  }
 ],
 "metadata": {
  "kernelspec": {
   "display_name": "Python 3",
   "language": "python",
   "name": "python3"
  },
  "language_info": {
   "codemirror_mode": {
    "name": "ipython",
    "version": 3
   },
   "file_extension": ".py",
   "mimetype": "text/x-python",
   "name": "python",
   "nbconvert_exporter": "python",
   "pygments_lexer": "ipython3",
   "version": "3.7.6"
  }
 },
 "nbformat": 4,
 "nbformat_minor": 4
}
