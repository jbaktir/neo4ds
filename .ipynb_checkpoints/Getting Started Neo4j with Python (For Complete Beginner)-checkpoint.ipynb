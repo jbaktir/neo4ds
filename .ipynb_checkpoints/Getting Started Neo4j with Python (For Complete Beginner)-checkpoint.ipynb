{
 "cells": [
  {
   "cell_type": "markdown",
   "metadata": {},
   "source": [
    "# Installation"
   ]
  },
  {
   "cell_type": "markdown",
   "metadata": {},
   "source": [
    "You can get started with Neo4j many ways, but these 3 are recommended:\n",
    "1. Neo4j Desktop   (https://neo4j.com/download/)\n",
    "2. Neo4j Sandbox   (https://neo4j.com/sandbox-v2/)\n",
    "3. Neo4j Aura   (https://neo4j.com/aura/)\n",
    "\n",
    "Go to one of the links, follow the steps and install the Neo4j.  \n",
    "Raise an issue if you bump into any problem in any of these steps. I will make sure to fix it."
   ]
  },
  {
   "cell_type": "markdown",
   "metadata": {},
   "source": [
    "# The Data"
   ]
  },
  {
   "cell_type": "markdown",
   "metadata": {},
   "source": [
    "Let's say you have a friend called Emily and she loves Pizza\n",
    "\n",
    "(Side Note: \"Emily Loves Pizza\" is a menu item at a nearby restaurant. Someone named Emily must be really loving Pizza so much so that they have named a pizza after her.)\n",
    "\n",
    "We can visualize the information that Emily Loves Pizza like this following:"
   ]
  },
  {
   "cell_type": "markdown",
   "metadata": {},
   "source": [
    "![Graph](https://raw.githubusercontent.com/ybaktir/neo4ds/master/extra/graph.png)"
   ]
  },
  {
   "cell_type": "markdown",
   "metadata": {},
   "source": [
    "Here \"Emily\" and \"Pizza\" are NODES\n",
    "and the connection between them which is \"LOVES\" is a RELATIONSHIP.\n",
    "\n",
    "This is the pretty much the bulk of the Graph Databases. Graph Databases are all about storing this type of relationship data and making ton of different queries on it. \n",
    "\n",
    "The everyday products such as Google Search, Google Maps rise on the idea of Graph. In Google Search, pages are connected to each other. We see the most popular websites based on the Page Rank algoritm. In Google Maps, streets are connected to each other and we find the directions based on the Shortest Path algoritms. The applications of graph database are endless.\n",
    "\n",
    "Let's now look at the data items in the \"Emily Loves Pizza\" information:"
   ]
  },
  {
   "cell_type": "markdown",
   "metadata": {},
   "source": [
    "![Arrows](https://raw.githubusercontent.com/ybaktir/neo4ds/master/extra/arrows.png)"
   ]
  },
  {
   "cell_type": "markdown",
   "metadata": {},
   "source": [
    "Here the \":Person\", \":LOVES\" and \":Food\" are the labels. \"name\" is the property. Labels are required, properties are not required in Neo4j. \n",
    "\n",
    "You can consider labels as clasess for Nodes and Relationships. If we had to insert another person called \"Peter\" to the database, we would give the \":Person\" label to it. And, later on we could query all the \":Person\" nodes and get the information about \"Peter\" and \"Emily\" excluding the unnecessary information about the \"Pizza\""
   ]
  },
  {
   "cell_type": "markdown",
   "metadata": {},
   "source": [
    "# Cypher"
   ]
  },
  {
   "cell_type": "markdown",
   "metadata": {},
   "source": [
    "The default language for Neo4j is ```Cypher```. The basic structure of Cypher is like the following:\n",
    "```\n",
    "() - [] -> ()\n",
    "```\n",
    "Here the parantheses are the Nodes and squared brackets are the relationships:\n",
    "```\n",
    "(Node) - [Relationship] -> (Node)\n",
    "```\n",
    "Labels and the properties are represented like the following:\n",
    "```\n",
    "(:NodeLabel {properties}) - [:RelationshipLabel] -> (:NodeLabel {properties})\n",
    "```\n",
    "The \"Emily Loves Pizza\" relationship can be represented like the following:\n",
    "```\n",
    "(:Person {name: 'Emily'}) - [:LOVES] -> (:Food {name:'Pizza'})\n",
    "```\n",
    "If we need to import this data into data in Neo4j, we only have to run this:\n",
    "```\n",
    "MERGE (:Person {name: 'Emily'}) - [:LOVES] -> (:Food {name:'Pizza'})\n",
    "```\n",
    "MERGE checks if the nodes and relationships are already stored, if not stored it creates them. If stored, does nothing (Hence prevents duplicates)"
   ]
  },
  {
   "cell_type": "markdown",
   "metadata": {},
   "source": [
    "### _Exercise:_   \n",
    "Please write the Cypher query for \"Patrick Follows Neo4j\""
   ]
  },
  {
   "cell_type": "raw",
   "metadata": {},
   "source": [
    "\n",
    "\n",
    "\n",
    "\n",
    "\n"
   ]
  },
  {
   "cell_type": "markdown",
   "metadata": {},
   "source": [
    "# Connect to Neo4j (Option 1: Neo4j driver) - Fastest Option"
   ]
  },
  {
   "cell_type": "markdown",
   "metadata": {},
   "source": [
    "The only job of the Neo4j driver is to execute the ```Cypher``` statements. This is both the advantage and disadvantage of connecting to Neo4j with driver.   \n",
    "    \n",
    "Advantage:    \n",
    "This type connection gives the fastest response time. This is because both Python and Neo4j doesn't spend time interpreting the statements. Python only sends the ```Cypher``` statements and since ```Cypher``` is the default language of Neo4j, Neo4j easily evaluates the statement and gives the response.\n",
    "\n",
    "Disadvantage:    \n",
    "For the developers, ```Cypher``` will be an additional language to learn. If you want to learn more about ```Cypher```, here are some resources\n",
    "Official resources: https://neo4j.com/developer/cypher-query-language/\n",
    "A nice Udemy course: "
   ]
  },
  {
   "cell_type": "code",
   "execution_count": 248,
   "metadata": {},
   "outputs": [
    {
     "name": "stdout",
     "output_type": "stream",
     "text": [
      "Collecting neo4j\n",
      "  Downloading https://files.pythonhosted.org/packages/ed/a9/248314080b0f875facf898fb270e99024a3d47edf4cdb01c87ff9c447151/neo4j-1.7.5.tar.gz\n",
      "Requirement already satisfied: neobolt~=1.7.15 in /opt/anaconda3/lib/python3.7/site-packages (from neo4j) (1.7.15)\n",
      "Requirement already satisfied: neotime~=1.7.1 in /opt/anaconda3/lib/python3.7/site-packages (from neo4j) (1.7.4)\n",
      "Requirement already satisfied: six in /opt/anaconda3/lib/python3.7/site-packages (from neotime~=1.7.1->neo4j) (1.12.0)\n",
      "Requirement already satisfied: pytz in /opt/anaconda3/lib/python3.7/site-packages (from neotime~=1.7.1->neo4j) (2019.3)\n",
      "Building wheels for collected packages: neo4j\n",
      "  Building wheel for neo4j (setup.py) ... \u001b[?25ldone\n",
      "\u001b[?25h  Created wheel for neo4j: filename=neo4j-1.7.5-cp37-none-any.whl size=32521 sha256=d6d36c45296d12f469b0ac2e4e6d4157e1c56eb196104461d5fa275e9616d175\n",
      "  Stored in directory: /Users/ybaktir/Library/Caches/pip/wheels/c0/dc/2e/6a26c3a5c63bb49a81092caa5ee48895971c0f229ee7900e7d\n",
      "Successfully built neo4j\n",
      "Installing collected packages: neo4j\n",
      "Successfully installed neo4j-1.7.5\n"
     ]
    }
   ],
   "source": [
    "# install the driver\n",
    "! pip install neo4j"
   ]
  },
  {
   "cell_type": "code",
   "execution_count": 263,
   "metadata": {},
   "outputs": [
    {
     "data": {
      "text/plain": [
       "<neo4j.BoltStatementResult at 0x10c175b10>"
      ]
     },
     "execution_count": 263,
     "metadata": {},
     "output_type": "execute_result"
    }
   ],
   "source": [
    "# Connect and Create Data\n",
    "from neo4j import GraphDatabase\n",
    "uri = \"bolt://localhost:7687\"\n",
    "driver = GraphDatabase.driver(uri, auth=(\"neo4j\", \"password\"))\n",
    "session = driver.session()\n",
    "\n",
    "query = \"MERGE (:Person {name: 'Emily'}) - [:LOVES] -> (:Food {name:'Pizza'})\"\n",
    "\n",
    "session.run(query)"
   ]
  },
  {
   "cell_type": "code",
   "execution_count": 264,
   "metadata": {
    "scrolled": true
   },
   "outputs": [
    {
     "data": {
      "text/plain": [
       "[<Record n1.name='Emily' type(rel)='LOVES' n2.name='Pizza'>]"
      ]
     },
     "execution_count": 264,
     "metadata": {},
     "output_type": "execute_result"
    }
   ],
   "source": [
    "# Query\n",
    "query = \"match (n1)-[rel]->(n2) return n1.name, type(rel), n2.name\"\n",
    "results = session.run(query)\n",
    "list(results)"
   ]
  },
  {
   "cell_type": "markdown",
   "metadata": {},
   "source": [
    "The data format looks a bit different now but we will soon see how to parse it. "
   ]
  },
  {
   "cell_type": "code",
   "execution_count": 262,
   "metadata": {},
   "outputs": [
    {
     "data": {
      "text/plain": [
       "<neo4j.BoltStatementResult at 0x10c216390>"
      ]
     },
     "execution_count": 262,
     "metadata": {},
     "output_type": "execute_result"
    }
   ],
   "source": [
    "# Delete all records\n",
    "query = \"match (n) detach delete n\"\n",
    "session.run(query)"
   ]
  },
  {
   "cell_type": "markdown",
   "metadata": {},
   "source": [
    "# Connect to Neo4j (Option 2: py2neo) - Most Convenient Option"
   ]
  },
  {
   "cell_type": "markdown",
   "metadata": {},
   "source": [
    "py2neo is a big Python library with a huge set of functions that will make your job easier. It is written by Nigel Small, who is the lead engineer at the Neo4j drivers them. He has long years of experience as a Python Developer. So, py2neo is an excellent tool, written by people with deep expertise in Neo4j and Python. \n",
    "\n",
    "We will only touch on Graph, Node and Relationship classes but py2neo is a lot more than that. Check out the full set of options here: https://py2neo.org/v4/"
   ]
  },
  {
   "cell_type": "code",
   "execution_count": 265,
   "metadata": {},
   "outputs": [],
   "source": [
    "from py2neo import Graph, Node, Relationship"
   ]
  },
  {
   "cell_type": "code",
   "execution_count": 266,
   "metadata": {},
   "outputs": [],
   "source": [
    "uri = \"http://localhost:7474/db/data/\"\n",
    "graph = Graph(uri, user=\"neo4j\", password=\"password\")"
   ]
  },
  {
   "cell_type": "code",
   "execution_count": 267,
   "metadata": {},
   "outputs": [
    {
     "data": {
      "text/plain": [
       "<Graph database=<Database uri='http://localhost:7474' secure=False user_agent='py2neo/4.2.0 urllib3/1.24.2 Python/3.7.4-final-0 (darwin)'> name='data'>"
      ]
     },
     "execution_count": 267,
     "metadata": {},
     "output_type": "execute_result"
    }
   ],
   "source": [
    "# \"graph\" is just a connection that points to http://localhost:7474\n",
    "graph"
   ]
  },
  {
   "cell_type": "code",
   "execution_count": 268,
   "metadata": {},
   "outputs": [],
   "source": [
    "# delete all the existing data\n",
    "# be careful before use\n",
    "graph.delete_all()"
   ]
  },
  {
   "cell_type": "code",
   "execution_count": 270,
   "metadata": {},
   "outputs": [
    {
     "data": {
      "text/plain": [
       "(:Person {name: 'Emily'})"
      ]
     },
     "execution_count": 270,
     "metadata": {},
     "output_type": "execute_result"
    }
   ],
   "source": [
    "Emily = Node(\"Person\", name=\"Emily\")\n",
    "Emily"
   ]
  },
  {
   "cell_type": "code",
   "execution_count": 273,
   "metadata": {},
   "outputs": [
    {
     "data": {
      "text/plain": [
       "py2neo.data.Node"
      ]
     },
     "execution_count": 273,
     "metadata": {},
     "output_type": "execute_result"
    }
   ],
   "source": [
    "type(Emily)"
   ]
  },
  {
   "cell_type": "code",
   "execution_count": 271,
   "metadata": {},
   "outputs": [
    {
     "data": {
      "text/plain": [
       "(:Food {name: 'Pizza'})"
      ]
     },
     "execution_count": 271,
     "metadata": {},
     "output_type": "execute_result"
    }
   ],
   "source": [
    "Pizza = Node(\"Food\",name=\"Pizza\")\n",
    "Pizza"
   ]
  },
  {
   "cell_type": "code",
   "execution_count": 274,
   "metadata": {
    "scrolled": true
   },
   "outputs": [
    {
     "data": {
      "text/plain": [
       "py2neo.data.Node"
      ]
     },
     "execution_count": 274,
     "metadata": {},
     "output_type": "execute_result"
    }
   ],
   "source": [
    "type(Pizza)"
   ]
  },
  {
   "cell_type": "code",
   "execution_count": 272,
   "metadata": {},
   "outputs": [
    {
     "data": {
      "text/plain": [
       "(Emily)-[:LOVES {}]->(Pizza)"
      ]
     },
     "execution_count": 272,
     "metadata": {},
     "output_type": "execute_result"
    }
   ],
   "source": [
    "EmilyLovesPizza = Relationship(Emily, \"LOVES\", Pizza)\n",
    "EmilyLovesPizza"
   ]
  },
  {
   "cell_type": "code",
   "execution_count": 275,
   "metadata": {},
   "outputs": [
    {
     "data": {
      "text/plain": [
       "py2neo.data.LOVES"
      ]
     },
     "execution_count": 275,
     "metadata": {},
     "output_type": "execute_result"
    }
   ],
   "source": [
    "type(EmilyLovesPizza)"
   ]
  },
  {
   "cell_type": "code",
   "execution_count": 277,
   "metadata": {},
   "outputs": [],
   "source": [
    "# Create the data\n",
    "graph.create(EmilyLovesPizza)"
   ]
  },
  {
   "cell_type": "code",
   "execution_count": 278,
   "metadata": {},
   "outputs": [],
   "source": [
    "# Clean the database\n",
    "graph.delete_all()"
   ]
  },
  {
   "cell_type": "markdown",
   "metadata": {},
   "source": [
    "# Parsing the response-Neo4j driver"
   ]
  },
  {
   "cell_type": "markdown",
   "metadata": {},
   "source": [
    "In this example, we collect all the information about the nodes in the database"
   ]
  },
  {
   "cell_type": "code",
   "execution_count": 280,
   "metadata": {},
   "outputs": [
    {
     "data": {
      "text/plain": [
       "<py2neo.database.Cursor at 0x10c2f9710>"
      ]
     },
     "execution_count": 280,
     "metadata": {},
     "output_type": "execute_result"
    }
   ],
   "source": [
    "# You can run the Cypher queries with py2neo\n",
    "# Create the database\n",
    "query = \"merge (:Person {name:'Emily'})-[:LOVES]->(:Food {name:'Pizza'})\"\n",
    "graph.run(query)"
   ]
  },
  {
   "cell_type": "code",
   "execution_count": 393,
   "metadata": {},
   "outputs": [
    {
     "data": {
      "text/plain": [
       "[<Record Id=21 Label=['Person'] Name='Emily'>,\n",
       " <Record Id=22 Label=['Food'] Name='Pizza'>]"
      ]
     },
     "execution_count": 393,
     "metadata": {},
     "output_type": "execute_result"
    }
   ],
   "source": [
    "query = \"\"\"MATCH (n) \n",
    "           RETURN id(n) as Id\n",
    "                 ,labels(n) as Label\n",
    "                 ,n.name as Name\"\"\"\n",
    "response = session.run(query)\n",
    "nodes = list(response)\n",
    "nodes"
   ]
  },
  {
   "cell_type": "code",
   "execution_count": 374,
   "metadata": {},
   "outputs": [
    {
     "data": {
      "text/plain": [
       "neo4j.Record"
      ]
     },
     "execution_count": 374,
     "metadata": {},
     "output_type": "execute_result"
    }
   ],
   "source": [
    "# We had seen a result similar to this before but what does this mean?\n",
    "\n",
    "# Let's check what type of data we have received first\n",
    "\n",
    "type(nodes[0])\n",
    "\n",
    "# Oh okay, it is a Record."
   ]
  },
  {
   "cell_type": "code",
   "execution_count": 375,
   "metadata": {},
   "outputs": [
    {
     "data": {
      "text/plain": [
       "<Record Id=22 Label=['Food'] Name='Pizza'>"
      ]
     },
     "execution_count": 375,
     "metadata": {},
     "output_type": "execute_result"
    }
   ],
   "source": [
    "# Access to the food record like this\n",
    "nodes[1]"
   ]
  },
  {
   "cell_type": "code",
   "execution_count": 376,
   "metadata": {},
   "outputs": [],
   "source": [
    "# and saves it into another variable\n",
    "Food_Record = nodes[1]"
   ]
  },
  {
   "cell_type": "code",
   "execution_count": 368,
   "metadata": {},
   "outputs": [
    {
     "data": {
      "text/plain": [
       "{'Id': 22, 'Label': ['Food'], 'Name': 'Pizza'}"
      ]
     },
     "execution_count": 368,
     "metadata": {},
     "output_type": "execute_result"
    }
   ],
   "source": [
    "# this will give all the critical information about the node\n",
    "Food_Record.data()"
   ]
  },
  {
   "cell_type": "code",
   "execution_count": 400,
   "metadata": {},
   "outputs": [],
   "source": [
    "# Complete Code:\n",
    "query = \"\"\"MATCH (n) \n",
    "           RETURN id(n) as Id\n",
    "                 ,labels(n) as Label\n",
    "                 ,n.name as Name\"\"\"\n",
    "response = session.run(query)\n",
    "record_list = []\n",
    "for record in response:\n",
    "    record_list.append(record.data())"
   ]
  },
  {
   "cell_type": "code",
   "execution_count": 402,
   "metadata": {},
   "outputs": [
    {
     "data": {
      "text/plain": [
       "[{'Id': 21, 'Label': ['Person'], 'Name': 'Emily'},\n",
       " {'Id': 22, 'Label': ['Food'], 'Name': 'Pizza'}]"
      ]
     },
     "execution_count": 402,
     "metadata": {},
     "output_type": "execute_result"
    }
   ],
   "source": [
    "# list of dicts\n",
    "record_list"
   ]
  },
  {
   "cell_type": "code",
   "execution_count": 403,
   "metadata": {},
   "outputs": [
    {
     "data": {
      "text/html": [
       "<div>\n",
       "<style scoped>\n",
       "    .dataframe tbody tr th:only-of-type {\n",
       "        vertical-align: middle;\n",
       "    }\n",
       "\n",
       "    .dataframe tbody tr th {\n",
       "        vertical-align: top;\n",
       "    }\n",
       "\n",
       "    .dataframe thead th {\n",
       "        text-align: right;\n",
       "    }\n",
       "</style>\n",
       "<table border=\"1\" class=\"dataframe\">\n",
       "  <thead>\n",
       "    <tr style=\"text-align: right;\">\n",
       "      <th></th>\n",
       "      <th>Id</th>\n",
       "      <th>Label</th>\n",
       "      <th>Name</th>\n",
       "    </tr>\n",
       "  </thead>\n",
       "  <tbody>\n",
       "    <tr>\n",
       "      <td>0</td>\n",
       "      <td>21</td>\n",
       "      <td>[Person]</td>\n",
       "      <td>Emily</td>\n",
       "    </tr>\n",
       "    <tr>\n",
       "      <td>1</td>\n",
       "      <td>22</td>\n",
       "      <td>[Food]</td>\n",
       "      <td>Pizza</td>\n",
       "    </tr>\n",
       "  </tbody>\n",
       "</table>\n",
       "</div>"
      ],
      "text/plain": [
       "   Id     Label   Name\n",
       "0  21  [Person]  Emily\n",
       "1  22    [Food]  Pizza"
      ]
     },
     "execution_count": 403,
     "metadata": {},
     "output_type": "execute_result"
    }
   ],
   "source": [
    "# pandas dataframe\n",
    "import pandas as pd\n",
    "pd.DataFrame(record_list)"
   ]
  },
  {
   "cell_type": "markdown",
   "metadata": {},
   "source": [
    "### _Exercise:_   \n",
    "Get all the elements of the Person node."
   ]
  },
  {
   "cell_type": "code",
   "execution_count": null,
   "metadata": {},
   "outputs": [],
   "source": [
    "# Print the label of the Person node:\n",
    "\n",
    "\n"
   ]
  },
  {
   "cell_type": "code",
   "execution_count": 247,
   "metadata": {},
   "outputs": [],
   "source": [
    "# Print the properties of the Person node:\n",
    "\n",
    "\n"
   ]
  },
  {
   "cell_type": "code",
   "execution_count": null,
   "metadata": {},
   "outputs": [],
   "source": [
    "# Print the unique id of the Person node:\n",
    "\n",
    "\n"
   ]
  },
  {
   "cell_type": "markdown",
   "metadata": {},
   "source": [
    "# Parsing the response-py2neo"
   ]
  },
  {
   "cell_type": "code",
   "execution_count": 389,
   "metadata": {},
   "outputs": [],
   "source": [
    "query = \"\"\"MATCH (n) \n",
    "           RETURN id(n) as Id\n",
    "                 ,labels(n) as Label\n",
    "                 ,n.name as Name\"\"\""
   ]
  },
  {
   "cell_type": "code",
   "execution_count": 390,
   "metadata": {},
   "outputs": [
    {
     "data": {
      "text/plain": [
       "[{'Id': 21, 'Label': ['Person'], 'Name': 'Emily'},\n",
       " {'Id': 22, 'Label': ['Food'], 'Name': 'Pizza'}]"
      ]
     },
     "execution_count": 390,
     "metadata": {},
     "output_type": "execute_result"
    }
   ],
   "source": [
    "# list of dicts\n",
    "graph.run(query).data()"
   ]
  },
  {
   "cell_type": "code",
   "execution_count": 391,
   "metadata": {},
   "outputs": [
    {
     "data": {
      "text/html": [
       "<div>\n",
       "<style scoped>\n",
       "    .dataframe tbody tr th:only-of-type {\n",
       "        vertical-align: middle;\n",
       "    }\n",
       "\n",
       "    .dataframe tbody tr th {\n",
       "        vertical-align: top;\n",
       "    }\n",
       "\n",
       "    .dataframe thead th {\n",
       "        text-align: right;\n",
       "    }\n",
       "</style>\n",
       "<table border=\"1\" class=\"dataframe\">\n",
       "  <thead>\n",
       "    <tr style=\"text-align: right;\">\n",
       "      <th></th>\n",
       "      <th>Id</th>\n",
       "      <th>Label</th>\n",
       "      <th>Name</th>\n",
       "    </tr>\n",
       "  </thead>\n",
       "  <tbody>\n",
       "    <tr>\n",
       "      <td>0</td>\n",
       "      <td>21</td>\n",
       "      <td>[Person]</td>\n",
       "      <td>Emily</td>\n",
       "    </tr>\n",
       "    <tr>\n",
       "      <td>1</td>\n",
       "      <td>22</td>\n",
       "      <td>[Food]</td>\n",
       "      <td>Pizza</td>\n",
       "    </tr>\n",
       "  </tbody>\n",
       "</table>\n",
       "</div>"
      ],
      "text/plain": [
       "   Id     Label   Name\n",
       "0  21  [Person]  Emily\n",
       "1  22    [Food]  Pizza"
      ]
     },
     "execution_count": 391,
     "metadata": {},
     "output_type": "execute_result"
    }
   ],
   "source": [
    "# pandas dataframe (make sure you have pandas installed)\n",
    "graph.run(query).to_data_frame()"
   ]
  }
 ],
 "metadata": {
  "kernelspec": {
   "display_name": "Python 3",
   "language": "python",
   "name": "python3"
  },
  "language_info": {
   "codemirror_mode": {
    "name": "ipython",
    "version": 3
   },
   "file_extension": ".py",
   "mimetype": "text/x-python",
   "name": "python",
   "nbconvert_exporter": "python",
   "pygments_lexer": "ipython3",
   "version": "3.7.4"
  }
 },
 "nbformat": 4,
 "nbformat_minor": 2
}
